{
 "cells": [
  {
   "cell_type": "markdown",
   "metadata": {},
   "source": [
    "# Capstone Project - The Battle of Neighbourhoods (Week 1)\n",
    "\n",
    "# **Best Location for a fitness centre**\n",
    "\n",
    "CK - July 2019"
   ]
  },
  {
   "cell_type": "markdown",
   "metadata": {},
   "source": [
    "# Background\n",
    "\n",
    "With most of us are becoming increasingly health conscious, popularity of fitness centres is proliferating. Growing indorsements from celebrities and athletes for different fitness franchises are adding awareness to the fitness industry. The Australian fitness industry is now worth around **$2.4 billion**, according to IbisWorld research company.\n",
    "\n",
    "## Objective  \n",
    "Main objective is to determine the **5** best possible postcodes/boroughs in **Central & Inner Metropolitan Sydney, Australia** to setup a fitness centre. The postcode range is 2000 - 2050. The centre will be welcoming all ages and fitness enthusiastic from all socio-economic backgrounds. However, according to the Australian Bureau of Statistics in 2016(Census), 18-34-year-olds are Australia’s top fitness demographic. Therefore, in this project focus will be age group 20-39 whose weekly income between AUD 1000 - 1999. Another variable will be count of fitness centres already in each postcode.\n",
    "\n",
    "## Audience\n",
    "Target audience of this project will be business entrepreneurs and fitness franchisees looking at expanding.  \n"
   ]
  },
  {
   "cell_type": "markdown",
   "metadata": {},
   "source": [
    "# Data\n",
    "\n",
    "Following data will be used to achieve the project objective:  \n",
    "\n",
    "1. Fitness centres in postcodes 2000 to 2050. Foursquare location data will be used to obtain this data  \n",
    "    \n",
    "2. Postcodes that fall within Central and Inner Metropolitan Sydney. Following weblink contains the required data, \n",
    "   relevant data is extracted and saved as a CSV file for use: https://www.prospectshop.com.au/Files/SydneyMetro_Postcodes.xls  \n",
    "    \n",
    "3. Suburb (Neighbourhood) names associated with each postcode were extracted from:  \n",
    "   https://www.costlessquotes.com.au/postcode_tool/postcode_list_NSW.php and save as a CSV file for use  \n",
    "    \n",
    "4. Demographic data, population age between 20-39 with weekly income between AUD 1000 - 1999 is extracted and saved as a CSV file from Australian   Bureau of Statistics: \n",
    "https://www.abs.gov.au/websitedbs/D3310114.nsf/Home/2016%20TableBuilder . Free account was setup to use *TableBuilder* to   \n",
    "   extract data from latest Census held in 2016  \n",
    "    \n",
    "\n",
    "With these data, density of target population and fitness centres can be determined."
   ]
  }
 ],
 "metadata": {
  "kernelspec": {
   "display_name": "Python 3",
   "language": "python",
   "name": "python3"
  },
  "language_info": {
   "codemirror_mode": {
    "name": "ipython",
    "version": 3
   },
   "file_extension": ".py",
   "mimetype": "text/x-python",
   "name": "python",
   "nbconvert_exporter": "python",
   "pygments_lexer": "ipython3",
   "version": "3.7.3"
  }
 },
 "nbformat": 4,
 "nbformat_minor": 4
}
