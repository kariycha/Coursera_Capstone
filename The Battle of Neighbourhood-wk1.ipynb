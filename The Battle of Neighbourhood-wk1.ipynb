{
    "nbformat_minor": 4, 
    "cells": [
        {
            "source": "# Capstone Project - The Battle of Neighbourhoods (Week 1)\n\n# <font color=blue>**Best Location for a fitness centre**</font>\n\nCK - July 2019", 
            "cell_type": "markdown", 
            "metadata": {}
        }, 
        {
            "source": "# Background\n\nWith most of us are becoming increasingly health conscious, popularity of fitness centres is proliferating. Growing indorsements from celebrities and athletes for different fitness franchises are adding awareness to the fitness industry. The Australian fitness industry is now worth around **$2.4 billion**, according to IbisWorld research company.\n\n## Objective  \nMain objective is to determine the **5** best possible postcodes in **Central & Inner Metropolitan Sydney**, Australia to setup a fitness centre. The postcode range is 2000 - 2050. The centre will be welcoming all ages and fitness enthusiastic from all socio-economic backgrounds. However, according to the Australian Bureau of Statistics in 2016(Census), 18-34-year-olds are Australia\u2019s top fitness demographic. Therefore, in this project focus will be age group 20-39 whose weekly income between AUD 1000 - 1999. Another variable will be count of fitness centres already in each postcode.\n\n## Audience\nTarget audience of this project will be business entrepreneurs and fitness franchisees looking at expanding.  \n", 
            "cell_type": "markdown", 
            "metadata": {}
        }, 
        {
            "source": "# Data\n\nFollowing data will be used to achieve the project objective:  \n\n1. Fitness centres in postcodes 2000 to 2050. Foursquare location data will be used to obtain this data  \n    \n2. Postcodes that fall within Central and Inner Metropolitan Sydney. Following weblink contains the required data, \n   relevant data is extracted and saved as a CSV file for use: https://www.prospectshop.com.au/Files/SydneyMetro_Postcodes.xls  \n    \n3. Suburb (Neighbourhood) names associated with each postcode were extracted from: https://www.costlessquotes.com.au/postcode_tool/postcode_list_NSW.php and save as a CSV file for use  \n    \n4. Demographic data, population age between 20-39 with weekly income between AUD 1000 - 1999 is extracted and saved as a CSV file from Australian Bureau of Statistics: https://www.abs.gov.au/websitedbs/D3310114.nsf/Home/2016%20TableBuilder . Free account was setup to use *TableBuilder* to extract data from latest Census held in 2016  \n    \n\nWith these data, density of target population and fitness centres can be determined.", 
            "cell_type": "markdown", 
            "metadata": {}
        }
    ], 
    "metadata": {
        "kernelspec": {
            "display_name": "Python 3.6", 
            "name": "python3", 
            "language": "python"
        }, 
        "language_info": {
            "mimetype": "text/x-python", 
            "nbconvert_exporter": "python", 
            "version": "3.6.8", 
            "name": "python", 
            "file_extension": ".py", 
            "pygments_lexer": "ipython3", 
            "codemirror_mode": {
                "version": 3, 
                "name": "ipython"
            }
        }
    }, 
    "nbformat": 4
}